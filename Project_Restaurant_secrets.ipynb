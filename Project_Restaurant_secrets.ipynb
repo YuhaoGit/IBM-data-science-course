{
 "cells": [
  {
   "cell_type": "markdown",
   "metadata": {},
   "source": [
    "# Project: the secrets behind popular restaurants"
   ]
  },
  {
   "cell_type": "markdown",
   "metadata": {},
   "source": [
    "### Import libraries"
   ]
  },
  {
   "cell_type": "code",
   "execution_count": 213,
   "metadata": {},
   "outputs": [],
   "source": [
    "import numpy as np\n",
    "import pandas as pd\n",
    "import math\n",
    "from sklearn.model_selection import train_test_split\n",
    "from sklearn.ensemble import RandomForestRegressor\n",
    "import matplotlib.pyplot as plt\n",
    "from sklearn.model_selection import RandomizedSearchCV\n",
    "from sklearn.tree import export_graphviz\n",
    "import pydot"
   ]
  },
  {
   "cell_type": "markdown",
   "metadata": {},
   "source": [
    "### Load datasets and data cleaning"
   ]
  },
  {
   "cell_type": "code",
   "execution_count": 214,
   "metadata": {},
   "outputs": [
    {
     "name": "stdout",
     "output_type": "stream",
     "text": [
      "Austin_restaurant_raw_final.csv\n",
      "Houston_grill_raw_final.csv\n",
      "Houston_restaurant_raw_final.csv\n",
      "CS_grill_raw_final.csv\n"
     ]
    },
    {
     "data": {
      "text/html": [
       "<div>\n",
       "<style scoped>\n",
       "    .dataframe tbody tr th:only-of-type {\n",
       "        vertical-align: middle;\n",
       "    }\n",
       "\n",
       "    .dataframe tbody tr th {\n",
       "        vertical-align: top;\n",
       "    }\n",
       "\n",
       "    .dataframe thead th {\n",
       "        text-align: right;\n",
       "    }\n",
       "</style>\n",
       "<table border=\"1\" class=\"dataframe\">\n",
       "  <thead>\n",
       "    <tr style=\"text-align: right;\">\n",
       "      <th></th>\n",
       "      <th>name</th>\n",
       "      <th>verified</th>\n",
       "      <th>delivery</th>\n",
       "      <th>photos.count</th>\n",
       "      <th>tips.count</th>\n",
       "      <th>listed.count</th>\n",
       "      <th>rating</th>\n",
       "      <th>price.tier</th>\n",
       "      <th>distance</th>\n",
       "      <th>Austin</th>\n",
       "      <th>Houston</th>\n",
       "      <th>College Station</th>\n",
       "    </tr>\n",
       "  </thead>\n",
       "  <tbody>\n",
       "    <tr>\n",
       "      <th>0</th>\n",
       "      <td>BJ's Restaurant &amp; Brewhouse</td>\n",
       "      <td>1</td>\n",
       "      <td>1</td>\n",
       "      <td>133</td>\n",
       "      <td>39</td>\n",
       "      <td>25</td>\n",
       "      <td>8.5</td>\n",
       "      <td>2.0</td>\n",
       "      <td>3317</td>\n",
       "      <td>0</td>\n",
       "      <td>0</td>\n",
       "      <td>1</td>\n",
       "    </tr>\n",
       "    <tr>\n",
       "      <th>1</th>\n",
       "      <td>Jose's Mexican Restaurant</td>\n",
       "      <td>0</td>\n",
       "      <td>1</td>\n",
       "      <td>8</td>\n",
       "      <td>8</td>\n",
       "      <td>5</td>\n",
       "      <td>7.0</td>\n",
       "      <td>2.0</td>\n",
       "      <td>2472</td>\n",
       "      <td>0</td>\n",
       "      <td>0</td>\n",
       "      <td>1</td>\n",
       "    </tr>\n",
       "    <tr>\n",
       "      <th>2</th>\n",
       "      <td>La Riviera Restaurant &amp; Bakery</td>\n",
       "      <td>0</td>\n",
       "      <td>0</td>\n",
       "      <td>9</td>\n",
       "      <td>3</td>\n",
       "      <td>5</td>\n",
       "      <td>6.3</td>\n",
       "      <td>2.0</td>\n",
       "      <td>2688</td>\n",
       "      <td>0</td>\n",
       "      <td>0</td>\n",
       "      <td>1</td>\n",
       "    </tr>\n",
       "    <tr>\n",
       "      <th>3</th>\n",
       "      <td>Centro American Restaurant &amp; Pupuseria</td>\n",
       "      <td>0</td>\n",
       "      <td>0</td>\n",
       "      <td>3</td>\n",
       "      <td>7</td>\n",
       "      <td>0</td>\n",
       "      <td>7.8</td>\n",
       "      <td>1.0</td>\n",
       "      <td>1440</td>\n",
       "      <td>0</td>\n",
       "      <td>0</td>\n",
       "      <td>1</td>\n",
       "    </tr>\n",
       "    <tr>\n",
       "      <th>4</th>\n",
       "      <td>Chef Cao's Chinese ReStaurant</td>\n",
       "      <td>1</td>\n",
       "      <td>1</td>\n",
       "      <td>13</td>\n",
       "      <td>4</td>\n",
       "      <td>4</td>\n",
       "      <td>6.3</td>\n",
       "      <td>1.0</td>\n",
       "      <td>1656</td>\n",
       "      <td>0</td>\n",
       "      <td>0</td>\n",
       "      <td>1</td>\n",
       "    </tr>\n",
       "    <tr>\n",
       "      <th>...</th>\n",
       "      <td>...</td>\n",
       "      <td>...</td>\n",
       "      <td>...</td>\n",
       "      <td>...</td>\n",
       "      <td>...</td>\n",
       "      <td>...</td>\n",
       "      <td>...</td>\n",
       "      <td>...</td>\n",
       "      <td>...</td>\n",
       "      <td>...</td>\n",
       "      <td>...</td>\n",
       "      <td>...</td>\n",
       "    </tr>\n",
       "    <tr>\n",
       "      <th>140</th>\n",
       "      <td>Buffalo Wild Wings</td>\n",
       "      <td>1</td>\n",
       "      <td>1</td>\n",
       "      <td>48</td>\n",
       "      <td>21</td>\n",
       "      <td>8</td>\n",
       "      <td>7.1</td>\n",
       "      <td>2.0</td>\n",
       "      <td>2386</td>\n",
       "      <td>0</td>\n",
       "      <td>0</td>\n",
       "      <td>1</td>\n",
       "    </tr>\n",
       "    <tr>\n",
       "      <th>141</th>\n",
       "      <td>Johnny Carino's</td>\n",
       "      <td>1</td>\n",
       "      <td>0</td>\n",
       "      <td>23</td>\n",
       "      <td>14</td>\n",
       "      <td>7</td>\n",
       "      <td>7.4</td>\n",
       "      <td>2.0</td>\n",
       "      <td>2161</td>\n",
       "      <td>0</td>\n",
       "      <td>0</td>\n",
       "      <td>1</td>\n",
       "    </tr>\n",
       "    <tr>\n",
       "      <th>142</th>\n",
       "      <td>Golden Corral</td>\n",
       "      <td>1</td>\n",
       "      <td>0</td>\n",
       "      <td>22</td>\n",
       "      <td>7</td>\n",
       "      <td>0</td>\n",
       "      <td>6.0</td>\n",
       "      <td>1.0</td>\n",
       "      <td>1954</td>\n",
       "      <td>0</td>\n",
       "      <td>0</td>\n",
       "      <td>1</td>\n",
       "    </tr>\n",
       "    <tr>\n",
       "      <th>143</th>\n",
       "      <td>Fat Burger Grill</td>\n",
       "      <td>0</td>\n",
       "      <td>1</td>\n",
       "      <td>8</td>\n",
       "      <td>5</td>\n",
       "      <td>2</td>\n",
       "      <td>7.0</td>\n",
       "      <td>1.0</td>\n",
       "      <td>4332</td>\n",
       "      <td>0</td>\n",
       "      <td>0</td>\n",
       "      <td>1</td>\n",
       "    </tr>\n",
       "    <tr>\n",
       "      <th>144</th>\n",
       "      <td>Willies Ice House</td>\n",
       "      <td>0</td>\n",
       "      <td>1</td>\n",
       "      <td>28</td>\n",
       "      <td>6</td>\n",
       "      <td>2</td>\n",
       "      <td>7.3</td>\n",
       "      <td>2.0</td>\n",
       "      <td>2309</td>\n",
       "      <td>0</td>\n",
       "      <td>0</td>\n",
       "      <td>1</td>\n",
       "    </tr>\n",
       "  </tbody>\n",
       "</table>\n",
       "<p>145 rows × 12 columns</p>\n",
       "</div>"
      ],
      "text/plain": [
       "                                       name  verified  delivery  photos.count  \\\n",
       "0               BJ's Restaurant & Brewhouse         1         1           133   \n",
       "1                 Jose's Mexican Restaurant         0         1             8   \n",
       "2            La Riviera Restaurant & Bakery         0         0             9   \n",
       "3    Centro American Restaurant & Pupuseria         0         0             3   \n",
       "4             Chef Cao's Chinese ReStaurant         1         1            13   \n",
       "..                                      ...       ...       ...           ...   \n",
       "140                      Buffalo Wild Wings         1         1            48   \n",
       "141                         Johnny Carino's         1         0            23   \n",
       "142                           Golden Corral         1         0            22   \n",
       "143                        Fat Burger Grill         0         1             8   \n",
       "144                       Willies Ice House         0         1            28   \n",
       "\n",
       "     tips.count  listed.count  rating  price.tier  distance  Austin  Houston  \\\n",
       "0            39            25     8.5         2.0      3317       0        0   \n",
       "1             8             5     7.0         2.0      2472       0        0   \n",
       "2             3             5     6.3         2.0      2688       0        0   \n",
       "3             7             0     7.8         1.0      1440       0        0   \n",
       "4             4             4     6.3         1.0      1656       0        0   \n",
       "..          ...           ...     ...         ...       ...     ...      ...   \n",
       "140          21             8     7.1         2.0      2386       0        0   \n",
       "141          14             7     7.4         2.0      2161       0        0   \n",
       "142           7             0     6.0         1.0      1954       0        0   \n",
       "143           5             2     7.0         1.0      4332       0        0   \n",
       "144           6             2     7.3         2.0      2309       0        0   \n",
       "\n",
       "     College Station  \n",
       "0                  1  \n",
       "1                  1  \n",
       "2                  1  \n",
       "3                  1  \n",
       "4                  1  \n",
       "..               ...  \n",
       "140                1  \n",
       "141                1  \n",
       "142                1  \n",
       "143                1  \n",
       "144                1  \n",
       "\n",
       "[145 rows x 12 columns]"
      ]
     },
     "execution_count": 214,
     "metadata": {},
     "output_type": "execute_result"
    }
   ],
   "source": [
    "f_name = 'CS_restaurant_raw_final.csv'\n",
    "f_name2 = 'CS_restaurant_distance.csv'\n",
    "df_r = pd.read_csv(f_name)\n",
    "df_dis = pd.read_csv(f_name2)\n",
    "df_dis = df_dis['distance']\n",
    "df_raw = pd.concat([df_r, df_dis], axis=1, sort=False)\n",
    "filtered_columns = ['name', 'verified','location.city','delivery.provider.name','photos.count','tips.count','listed.count','rating','price.tier','distance']\n",
    "df_f = df_raw.loc[:, filtered_columns]\n",
    "\n",
    "prefix = ['Austin_restaurant','Houston_grill','Houston_restaurant','CS_grill']\n",
    "suffix = '_raw_final.csv'\n",
    "suffix_2 = '_distance.csv'\n",
    "for pre in prefix:\n",
    "    f_name = pre+suffix\n",
    "    f_name2 = pre+suffix_2\n",
    "    print(f_name)\n",
    "    df_r = pd.read_csv(f_name)\n",
    "    df_dis = pd.read_csv(f_name2)\n",
    "    df_dis = df_dis['distance']\n",
    "    df_raw = pd.concat([df_r, df_dis], axis=1, sort=False)\n",
    "    df_f_new = df_raw.loc[:, filtered_columns]\n",
    "    df_f = df_f.append(df_f_new)\n",
    "    \n",
    "df_dp = df_f.drop_duplicates(subset = ['verified','location.city','delivery.provider.name','photos.count','tips.count','listed.count','rating','price.tier'])\n",
    "nul = df_dp['rating'].isnull()\n",
    "df = df_dp[nul==False]\n",
    "df = df.rename(columns={'delivery.provider.name': 'delivery','location.city':'city'})\n",
    "\n",
    "df['verified']=np.where(df['verified']==False,0,1)\n",
    "df['delivery']=np.where(df['delivery']=='grubhub',1,0)\n",
    "df['price.tier']=df['price.tier'].fillna(1)\n",
    "df['city']=df['city'].fillna('College Station')\n",
    "\n",
    "df_city = pd.DataFrame(0,index=range(145),columns=['name','city','Austin','Houston','College Station'])\n",
    "df_city[['name','city']]=df[['name','city']].values\n",
    "for i in range(0,145):\n",
    "    if df_city.loc[i,'city'] == 'College Station' or df_city.loc[i,'city'] == 'Bryan':\n",
    "        df_city.loc[i,'College Station']=1\n",
    "    if df_city.loc[i,'city'] == 'Austin' or df_city.loc[i,'city'] == 'Sunset Valley':\n",
    "        df_city.loc[i,'Austin']=1\n",
    "    if df_city.loc[i,'city'] == 'Houston' or df_city.loc[i,'city'] == 'Bellaire' or df_city.loc[i,'city'] == 'Pearland':\n",
    "        df_city.loc[i,'Houston']=1\n",
    "\n",
    "a = df_city[['Austin','Houston','College Station']]\n",
    "df.reset_index(drop=True, inplace=True)\n",
    "a.reset_index(drop=True, inplace=True)\n",
    "df=pd.concat([df, a], axis=1)\n",
    "\n",
    "filtered_columns = ['name', 'verified','delivery','photos.count','tips.count','listed.count','rating','price.tier','distance','Austin','Houston','College Station']\n",
    "df_final = df.loc[:, filtered_columns]\n",
    "df_final\n"
   ]
  },
  {
   "cell_type": "markdown",
   "metadata": {},
   "source": [
    "### Data formatting"
   ]
  },
  {
   "cell_type": "code",
   "execution_count": 215,
   "metadata": {},
   "outputs": [
    {
     "name": "stdout",
     "output_type": "stream",
     "text": [
      "Training Features Shape: (108, 10)\n",
      "Training Labels Shape: (108,)\n",
      "Testing Features Shape: (37, 10)\n",
      "Testing Labels Shape: (37,)\n"
     ]
    }
   ],
   "source": [
    "y = np.array(df_final['rating'])\n",
    "x = df_final.drop(['name','rating'], axis = 1)\n",
    "feature_list = list(x.columns)\n",
    "x = np.array(x)\n",
    "train_x, test_x, train_y, test_y = train_test_split(x, y, test_size = 0.25, random_state = 1)\n",
    "print('Training Features Shape:', train_x.shape)\n",
    "print('Training Labels Shape:', train_y.shape)\n",
    "print('Testing Features Shape:', test_x.shape)\n",
    "print('Testing Labels Shape:', test_y.shape)"
   ]
  },
  {
   "cell_type": "markdown",
   "metadata": {},
   "source": [
    "### Random forest model hyperparameter tuning"
   ]
  },
  {
   "cell_type": "code",
   "execution_count": 191,
   "metadata": {},
   "outputs": [
    {
     "name": "stderr",
     "output_type": "stream",
     "text": [
      "C:\\Users\\hiyuh\\Anaconda3\\lib\\site-packages\\sklearn\\model_selection\\_search.py:282: UserWarning: The total space of parameters 60 is smaller than n_iter=100. Running 60 iterations. For exhaustive searches, use GridSearchCV.\n",
      "  % (grid_size, self.n_iter, grid_size), UserWarning)\n",
      "[Parallel(n_jobs=-1)]: Using backend LokyBackend with 8 concurrent workers.\n"
     ]
    },
    {
     "name": "stdout",
     "output_type": "stream",
     "text": [
      "Fitting 5 folds for each of 60 candidates, totalling 300 fits\n"
     ]
    },
    {
     "name": "stderr",
     "output_type": "stream",
     "text": [
      "[Parallel(n_jobs=-1)]: Done  25 tasks      | elapsed:   17.1s\n",
      "[Parallel(n_jobs=-1)]: Done 146 tasks      | elapsed:  1.5min\n",
      "[Parallel(n_jobs=-1)]: Done 300 out of 300 | elapsed:  3.1min finished\n"
     ]
    },
    {
     "name": "stdout",
     "output_type": "stream",
     "text": [
      "{'n_estimators': 1055, 'max_features': 'sqrt', 'max_depth': 500}\n"
     ]
    }
   ],
   "source": [
    "rf = RandomForestRegressor()\n",
    "# number of trees in random forest\n",
    "n_estimators = [int(x) for x in np.linspace(start = 500, stop = 1500, num = 10)]\n",
    "# number of features at every split\n",
    "max_features = ['auto', 'sqrt']\n",
    "\n",
    "# max depth\n",
    "max_depth = [int(x) for x in np.linspace(100, 500, num = 2)]\n",
    "max_depth.append(None)\n",
    "# create random grid\n",
    "random_grid = {\n",
    " 'n_estimators': n_estimators,\n",
    " 'max_features': max_features,\n",
    " 'max_depth': max_depth\n",
    " }\n",
    "# Random search of parameters\n",
    "rf_random = RandomizedSearchCV(estimator = rf, param_distributions = random_grid, n_iter = 100, cv = 5, verbose=2, random_state=1, n_jobs = -1)\n",
    "\n",
    "# Fit the model\n",
    "rf_random.fit(train_x, train_y)\n",
    "\n",
    "# print results\n",
    "print(rf_random.best_params_)"
   ]
  },
  {
   "cell_type": "markdown",
   "metadata": {},
   "source": [
    "### Train and evaluate the model"
   ]
  },
  {
   "cell_type": "code",
   "execution_count": 216,
   "metadata": {},
   "outputs": [
    {
     "name": "stdout",
     "output_type": "stream",
     "text": [
      "Accuracy: 89.87 %.\n"
     ]
    }
   ],
   "source": [
    "rf = RandomForestRegressor(n_estimators=1055, max_features='sqrt',max_depth = 500,random_state=1)\n",
    "rf.fit(train_x, train_y)\n",
    "predictions = rf.predict(test_x)\n",
    "errors = abs(predictions - test_y)\n",
    "# Calculate mean absolute percentage error (MAPE)\n",
    "mape = 100 * (errors / test_y)\n",
    "accuracy = 100 - np.mean(mape)\n",
    "print('Accuracy:', round(accuracy, 2), '%.')"
   ]
  },
  {
   "cell_type": "markdown",
   "metadata": {},
   "source": [
    "### Plot the decision trees"
   ]
  },
  {
   "cell_type": "code",
   "execution_count": 217,
   "metadata": {},
   "outputs": [],
   "source": [
    "# Pull out one tree from the forest\n",
    "tree = rf.estimators_[5]\n",
    "# Export the image to a dot file\n",
    "export_graphviz(tree, out_file = 'tree.dot', feature_names = feature_list, rounded = True, precision = 1)\n",
    "# Use dot file to create a graph\n",
    "(graph, ) = pydot.graph_from_dot_file('tree.dot')\n",
    "# Write graph to a png file\n",
    "graph.write_png('tree.png')"
   ]
  },
  {
   "cell_type": "markdown",
   "metadata": {},
   "source": [
    "### Variable importances"
   ]
  },
  {
   "cell_type": "code",
   "execution_count": 218,
   "metadata": {},
   "outputs": [
    {
     "name": "stdout",
     "output_type": "stream",
     "text": [
      "Variable: listed.count         Importance: 0.26\n",
      "Variable: photos.count         Importance: 0.21\n",
      "Variable: tips.count           Importance: 0.21\n",
      "Variable: distance             Importance: 0.17\n",
      "Variable: verified             Importance: 0.04\n",
      "Variable: delivery             Importance: 0.04\n",
      "Variable: price.tier           Importance: 0.03\n",
      "Variable: Houston              Importance: 0.02\n",
      "Variable: College Station      Importance: 0.02\n",
      "Variable: Austin               Importance: 0.01\n"
     ]
    }
   ],
   "source": [
    "# Get numerical feature importances\n",
    "importances = list(rf.feature_importances_)\n",
    "# List of tuples with variable and importance\n",
    "feature_importances = [(feature, round(importance, 2)) for feature, importance in zip(feature_list, importances)]\n",
    "# Sort the feature importances by most important first\n",
    "feature_importances = sorted(feature_importances, key = lambda z: z[1], reverse = True)\n",
    "# Print out the feature and importances \n",
    "[print('Variable: {:20} Importance: {}'.format(*pair)) for pair in feature_importances];"
   ]
  },
  {
   "cell_type": "code",
   "execution_count": null,
   "metadata": {},
   "outputs": [],
   "source": []
  }
 ],
 "metadata": {
  "kernelspec": {
   "display_name": "Python 3",
   "language": "python",
   "name": "python3"
  },
  "language_info": {
   "codemirror_mode": {
    "name": "ipython",
    "version": 3
   },
   "file_extension": ".py",
   "mimetype": "text/x-python",
   "name": "python",
   "nbconvert_exporter": "python",
   "pygments_lexer": "ipython3",
   "version": "3.7.3"
  }
 },
 "nbformat": 4,
 "nbformat_minor": 4
}
